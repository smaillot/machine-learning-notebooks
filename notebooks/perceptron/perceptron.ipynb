{
 "cells": [
  {
   "cell_type": "markdown",
   "metadata": {},
   "source": [
    "# Simple neural network"
   ]
  },
  {
   "cell_type": "markdown",
   "metadata": {},
   "source": [
    "Add dependency"
   ]
  },
  {
   "cell_type": "code",
   "execution_count": 210,
   "metadata": {
    "collapsed": true
   },
   "outputs": [],
   "source": [
    "import numpy as np\n",
    "import matplotlib.pyplot as plt\n",
    "%matplotlib  inline"
   ]
  },
  {
   "cell_type": "markdown",
   "metadata": {},
   "source": [
    "## Set the network shape"
   ]
  },
  {
   "cell_type": "code",
   "execution_count": 211,
   "metadata": {
    "collapsed": true
   },
   "outputs": [],
   "source": [
    "I = 3\n",
    "H = 4\n",
    "O = 1"
   ]
  },
  {
   "cell_type": "markdown",
   "metadata": {},
   "source": [
    "## Define sigmoid function and its derivative"
   ]
  },
  {
   "cell_type": "code",
   "execution_count": 212,
   "metadata": {
    "collapsed": true
   },
   "outputs": [],
   "source": [
    "def sigmoid(x, deriv=False):\n",
    "    if deriv:\n",
    "        res = sigmoid(x)\n",
    "        return res * (1 - res)\n",
    "    else:\n",
    "        return 1/(1+np.exp(-x))"
   ]
  },
  {
   "cell_type": "markdown",
   "metadata": {},
   "source": [
    "Check these functions"
   ]
  },
  {
   "cell_type": "code",
   "execution_count": 213,
   "metadata": {},
   "outputs": [
    {
     "data": {
      "text/plain": [
       "[<matplotlib.lines.Line2D at 0x22385ae39b0>]"
      ]
     },
     "execution_count": 213,
     "metadata": {},
     "output_type": "execute_result"
    },
    {
     "data": {
      "image/png": "[encoded data removed]",
      "text/plain": [
       "<matplotlib.figure.Figure at 0x22385ae3eb8>"
      ]
     },
     "metadata": {},
     "output_type": "display_data"
    }
   ],
   "source": [
    "x=np.linspace(-10,10,1000)\n",
    "plt.plot(x,sigmoid(x))\n",
    "plt.plot(x,sigmoid(x,True))"
   ]
  },
  {
   "cell_type": "markdown",
   "metadata": {},
   "source": [
    "## Define the network"
   ]
  },
  {
   "cell_type": "markdown",
   "metadata": {},
   "source": [
    "Define the random seed"
   ]
  },
  {
   "cell_type": "code",
   "execution_count": 214,
   "metadata": {
    "collapsed": true
   },
   "outputs": [],
   "source": [
    " np.random.seed(0)"
   ]
  },
  {
   "cell_type": "markdown",
   "metadata": {},
   "source": [
    "Define synapses "
   ]
  },
  {
   "cell_type": "code",
   "execution_count": 215,
   "metadata": {
    "collapsed": true
   },
   "outputs": [],
   "source": [
    "input_synapses = 2 *np.random.random((I,H)) - 1\n",
    "output_synapses = 2 * np.random.random((H,O)) - 1"
   ]
  },
  {
   "cell_type": "markdown",
   "metadata": {},
   "source": [
    "## Choosing input and desired output"
   ]
  },
  {
   "cell_type": "markdown",
   "metadata": {},
   "source": [
    "Input : all 3-boolean variables combinations"
   ]
  },
  {
   "cell_type": "code",
   "execution_count": 216,
   "metadata": {
    "collapsed": true
   },
   "outputs": [],
   "source": [
    "x = np.array(\n",
    "[[0, 0, 0],\n",
    "[0, 0, 1],\n",
    "[0, 1, 0],\n",
    "[0, 1, 1],\n",
    "[1, 0, 0],\n",
    "[1, 0, 1],\n",
    "[1, 1, 0],\n",
    "[1, 1, 1]]\n",
    ")"
   ]
  },
  {
   "cell_type": "markdown",
   "metadata": {},
   "source": [
    "Output function : having exactly 1 or 3 input variables set as True"
   ]
  },
  {
   "cell_type": "code",
   "execution_count": 217,
   "metadata": {
    "collapsed": true
   },
   "outputs": [],
   "source": [
    "y = np.array(\n",
    "[[0],\n",
    "[1], \n",
    "[1], \n",
    "[0], \n",
    "[1], \n",
    "[0], \n",
    "[0],            \n",
    "[1]]\n",
    ")"
   ]
  },
  {
   "cell_type": "markdown",
   "metadata": {},
   "source": [
    "## Training"
   ]
  },
  {
   "cell_type": "markdown",
   "metadata": {},
   "source": [
    "Choose the number of iterations"
   ]
  },
  {
   "cell_type": "code",
   "execution_count": 218,
   "metadata": {
    "collapsed": true
   },
   "outputs": [],
   "source": [
    "N = 50000"
   ]
  },
  {
   "cell_type": "markdown",
   "metadata": {},
   "source": [
    "Back propagation"
   ]
  },
  {
   "cell_type": "code",
   "execution_count": 219,
   "metadata": {},
   "outputs": [
    {
     "name": "stdout",
     "output_type": "stream",
     "text": [
      "20.0% : error = 50.0017509392%\n",
      "40.0% : error = 49.9855308874%\n",
      "60.0% : error = 2.27455765231%\n",
      "80.0% : error = 0.460340974345%\n",
      "100.0% : error = 0.256632084852%\n"
     ]
    }
   ],
   "source": [
    "error = [0]*N\n",
    "for i in range(N):\n",
    "    # input layer\n",
    "    input_layer = x\n",
    "    # hidden layer\n",
    "    hidden_layer = sigmoid(np.dot(input_layer,input_synapses))\n",
    "    # output layer\n",
    "    output_layer = sigmoid(np.dot(hidden_layer,output_synapses))\n",
    "    \n",
    "    #back propagation\n",
    "    output_error = y - output_layer\n",
    "    error[i] = np.mean(np.abs(output_error))\n",
    "    if ((i+1) % 10000) == 0:\n",
    "        print(str(100 * (i+1) / N)  + '%' + ' : error = ' + str(100 * np.mean(np.abs(output_error))) + '%')\n",
    "    output_layer_loss_function = output_error * sigmoid(output_layer,deriv=True)\n",
    "    \n",
    "    hidden_error = output_layer_loss_function.dot(output_synapses.T)\n",
    "    hidden_layer_loss_function = hidden_error * sigmoid(hidden_layer,deriv=True)\n",
    "    \n",
    "    output_synapses += hidden_layer.T.dot(output_layer_loss_function)\n",
    "    input_synapses += input_layer.T.dot(hidden_layer_loss_function)   \n",
    "    "
   ]
  },
  {
   "cell_type": "markdown",
   "metadata": {},
   "source": [
    "Plot the error"
   ]
  },
  {
   "cell_type": "code",
   "execution_count": 225,
   "metadata": {},
   "outputs": [
    {
     "data": {
      "text/plain": [
       "[<matplotlib.lines.Line2D at 0x223880cbf28>]"
      ]
     },
     "execution_count": 225,
     "metadata": {},
     "output_type": "execute_result"
    },
    {
     "data": {
      "image/png": "[encoded data removed]",
      "text/plain": [
       "<matplotlib.figure.Figure at 0x22385d310f0>"
      ]
     },
     "metadata": {},
     "output_type": "display_data"
    },
    {
     "data": {
      "image/png": "[encoded data removed]",
      "text/plain": [
       "<matplotlib.figure.Figure at 0x22385d28048>"
      ]
     },
     "metadata": {},
     "output_type": "display_data"
    }
   ],
   "source": [
    "plt.plot(error)\n",
    "plt.figure()\n",
    "plt.plot(error[25000:30000])"
   ]
  },
  {
   "cell_type": "code",
   "execution_count": 226,
   "metadata": {},
   "outputs": [
    {
     "name": "stdout",
     "output_type": "stream",
     "text": [
      "Input | Final output | Desired output :\n",
      "[[ 0.006  0.   ]\n",
      " [ 0.998  1.   ]\n",
      " [ 0.998  1.   ]\n",
      " [ 0.     0.   ]\n",
      " [ 0.995  1.   ]\n",
      " [ 0.002  0.   ]\n",
      " [ 0.002  0.   ]\n",
      " [ 0.999  1.   ]]\n"
     ]
    }
   ],
   "source": [
    "np.set_printoptions(suppress=True,precision=3)\n",
    "print('Input | Final output | Desired output :')\n",
    "print(np.concatenate((output_layer,y),axis=1))"
   ]
  }
 ],
 "metadata": {
  "anaconda-cloud": {},
  "kernelspec": {
   "display_name": "Python 3",
   "language": "python",
   "name": "python3"
  },
  "language_info": {
   "codemirror_mode": {
    "name": "ipython",
    "version": 3
   },
   "file_extension": ".py",
   "mimetype": "text/x-python",
   "name": "python",
   "nbconvert_exporter": "python",
   "pygments_lexer": "ipython3",
   "version": "3.6.1"
  }
 },
 "nbformat": 4,
 "nbformat_minor": 2
}
